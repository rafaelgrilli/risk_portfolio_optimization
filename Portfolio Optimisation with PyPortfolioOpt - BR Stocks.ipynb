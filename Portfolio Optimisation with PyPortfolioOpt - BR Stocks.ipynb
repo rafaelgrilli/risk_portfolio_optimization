{
 "cells": [
  {
   "cell_type": "code",
   "execution_count": 85,
   "metadata": {},
   "outputs": [],
   "source": [
    "# PyPortfolioOpt does the hard work for us, allowing for one-liners like ef.min_volatility() to generage\n",
    "# a portfolio that minimises the volatility, while at the same time allowing for more complex problems\n",
    "# PyPortfolioOpt documentation says \"this is all possible thanks to cvxpy, the python-embedded modelling\n",
    "# language for complex optimisation upon which PyPortfolioOpt's efficient frontier functionality lies\". "
   ]
  },
  {
   "cell_type": "code",
   "execution_count": 86,
   "metadata": {},
   "outputs": [],
   "source": [
    "# in these examples demonstrating PyPortfolioOpt's mean-variance capabilities, we start with a list of tickers\n",
    "# Robert Martin, PyPortfolioOpt's author, suggest between 10-50 stocks as a starting point"
   ]
  },
  {
   "cell_type": "code",
   "execution_count": 87,
   "metadata": {},
   "outputs": [],
   "source": [
    "import matplotlib.pyplot as plt\n",
    "import pandas as pd\n",
    "import numpy as np"
   ]
  },
  {
   "cell_type": "code",
   "execution_count": 88,
   "metadata": {},
   "outputs": [],
   "source": [
    "df = pd.read_csv(\"br_stocks.csv\", parse_dates=True, index_col=\"Date\")"
   ]
  },
  {
   "cell_type": "code",
   "execution_count": 89,
   "metadata": {},
   "outputs": [
    {
     "data": {
      "text/html": [
       "<div>\n",
       "<style scoped>\n",
       "    .dataframe tbody tr th:only-of-type {\n",
       "        vertical-align: middle;\n",
       "    }\n",
       "\n",
       "    .dataframe tbody tr th {\n",
       "        vertical-align: top;\n",
       "    }\n",
       "\n",
       "    .dataframe thead th {\n",
       "        text-align: right;\n",
       "    }\n",
       "</style>\n",
       "<table border=\"1\" class=\"dataframe\">\n",
       "  <thead>\n",
       "    <tr style=\"text-align: right;\">\n",
       "      <th></th>\n",
       "      <th>ITSA4</th>\n",
       "      <th>GOAU4</th>\n",
       "      <th>CMIG3</th>\n",
       "      <th>PETR4</th>\n",
       "      <th>TOTS3</th>\n",
       "      <th>USIM5</th>\n",
       "      <th>LAME4</th>\n",
       "      <th>BBAS3</th>\n",
       "      <th>CIEL3</th>\n",
       "      <th>LIGT3</th>\n",
       "      <th>ABEV3</th>\n",
       "      <th>KLBN11</th>\n",
       "      <th>VVAR3</th>\n",
       "      <th>CVCB3</th>\n",
       "      <th>GOLL4</th>\n",
       "      <th>EMBR3</th>\n",
       "      <th>CSNA3</th>\n",
       "    </tr>\n",
       "    <tr>\n",
       "      <th>Date</th>\n",
       "      <th></th>\n",
       "      <th></th>\n",
       "      <th></th>\n",
       "      <th></th>\n",
       "      <th></th>\n",
       "      <th></th>\n",
       "      <th></th>\n",
       "      <th></th>\n",
       "      <th></th>\n",
       "      <th></th>\n",
       "      <th></th>\n",
       "      <th></th>\n",
       "      <th></th>\n",
       "      <th></th>\n",
       "      <th></th>\n",
       "      <th></th>\n",
       "      <th></th>\n",
       "    </tr>\n",
       "  </thead>\n",
       "  <tbody>\n",
       "    <tr>\n",
       "      <th>2015-10-26</th>\n",
       "      <td>4.337310</td>\n",
       "      <td>2.629987</td>\n",
       "      <td>4.889023</td>\n",
       "      <td>7.282466</td>\n",
       "      <td>32.969135</td>\n",
       "      <td>2.948654</td>\n",
       "      <td>14.489809</td>\n",
       "      <td>12.885270</td>\n",
       "      <td>21.604973</td>\n",
       "      <td>12.372133</td>\n",
       "      <td>17.280500</td>\n",
       "      <td>19.230658</td>\n",
       "      <td>3.310584</td>\n",
       "      <td>13.152596</td>\n",
       "      <td>3.55</td>\n",
       "      <td>25.767944</td>\n",
       "      <td>4.115990</td>\n",
       "    </tr>\n",
       "    <tr>\n",
       "      <th>2015-10-27</th>\n",
       "      <td>4.301952</td>\n",
       "      <td>2.516463</td>\n",
       "      <td>4.774228</td>\n",
       "      <td>7.050539</td>\n",
       "      <td>33.044613</td>\n",
       "      <td>2.948654</td>\n",
       "      <td>14.449583</td>\n",
       "      <td>13.058755</td>\n",
       "      <td>21.803387</td>\n",
       "      <td>12.225429</td>\n",
       "      <td>17.394650</td>\n",
       "      <td>19.053841</td>\n",
       "      <td>3.310584</td>\n",
       "      <td>12.932006</td>\n",
       "      <td>3.56</td>\n",
       "      <td>26.999142</td>\n",
       "      <td>4.082797</td>\n",
       "    </tr>\n",
       "    <tr>\n",
       "      <th>2015-10-28</th>\n",
       "      <td>4.272487</td>\n",
       "      <td>2.450240</td>\n",
       "      <td>4.855263</td>\n",
       "      <td>7.375236</td>\n",
       "      <td>32.081654</td>\n",
       "      <td>2.822561</td>\n",
       "      <td>14.425447</td>\n",
       "      <td>12.837956</td>\n",
       "      <td>21.489256</td>\n",
       "      <td>12.117845</td>\n",
       "      <td>17.245377</td>\n",
       "      <td>18.854654</td>\n",
       "      <td>2.803557</td>\n",
       "      <td>13.400757</td>\n",
       "      <td>3.56</td>\n",
       "      <td>26.970060</td>\n",
       "      <td>4.016410</td>\n",
       "    </tr>\n",
       "    <tr>\n",
       "      <th>2015-10-29</th>\n",
       "      <td>4.207663</td>\n",
       "      <td>2.374557</td>\n",
       "      <td>4.747219</td>\n",
       "      <td>7.059817</td>\n",
       "      <td>31.430193</td>\n",
       "      <td>2.725565</td>\n",
       "      <td>13.572176</td>\n",
       "      <td>12.222869</td>\n",
       "      <td>20.557831</td>\n",
       "      <td>12.078724</td>\n",
       "      <td>16.683409</td>\n",
       "      <td>18.524618</td>\n",
       "      <td>2.475481</td>\n",
       "      <td>13.327228</td>\n",
       "      <td>3.49</td>\n",
       "      <td>27.183344</td>\n",
       "      <td>3.576597</td>\n",
       "    </tr>\n",
       "    <tr>\n",
       "      <th>2015-10-30</th>\n",
       "      <td>4.243021</td>\n",
       "      <td>2.459701</td>\n",
       "      <td>4.835006</td>\n",
       "      <td>7.152587</td>\n",
       "      <td>32.261009</td>\n",
       "      <td>2.696467</td>\n",
       "      <td>13.451403</td>\n",
       "      <td>12.593497</td>\n",
       "      <td>20.144411</td>\n",
       "      <td>12.548180</td>\n",
       "      <td>16.762438</td>\n",
       "      <td>18.558466</td>\n",
       "      <td>2.883091</td>\n",
       "      <td>13.419142</td>\n",
       "      <td>3.55</td>\n",
       "      <td>27.416006</td>\n",
       "      <td>3.601491</td>\n",
       "    </tr>\n",
       "  </tbody>\n",
       "</table>\n",
       "</div>"
      ],
      "text/plain": [
       "               ITSA4     GOAU4     CMIG3     PETR4      TOTS3     USIM5  \\\n",
       "Date                                                                      \n",
       "2015-10-26  4.337310  2.629987  4.889023  7.282466  32.969135  2.948654   \n",
       "2015-10-27  4.301952  2.516463  4.774228  7.050539  33.044613  2.948654   \n",
       "2015-10-28  4.272487  2.450240  4.855263  7.375236  32.081654  2.822561   \n",
       "2015-10-29  4.207663  2.374557  4.747219  7.059817  31.430193  2.725565   \n",
       "2015-10-30  4.243021  2.459701  4.835006  7.152587  32.261009  2.696467   \n",
       "\n",
       "                LAME4      BBAS3      CIEL3      LIGT3      ABEV3     KLBN11  \\\n",
       "Date                                                                           \n",
       "2015-10-26  14.489809  12.885270  21.604973  12.372133  17.280500  19.230658   \n",
       "2015-10-27  14.449583  13.058755  21.803387  12.225429  17.394650  19.053841   \n",
       "2015-10-28  14.425447  12.837956  21.489256  12.117845  17.245377  18.854654   \n",
       "2015-10-29  13.572176  12.222869  20.557831  12.078724  16.683409  18.524618   \n",
       "2015-10-30  13.451403  12.593497  20.144411  12.548180  16.762438  18.558466   \n",
       "\n",
       "               VVAR3      CVCB3  GOLL4      EMBR3     CSNA3  \n",
       "Date                                                         \n",
       "2015-10-26  3.310584  13.152596   3.55  25.767944  4.115990  \n",
       "2015-10-27  3.310584  12.932006   3.56  26.999142  4.082797  \n",
       "2015-10-28  2.803557  13.400757   3.56  26.970060  4.016410  \n",
       "2015-10-29  2.475481  13.327228   3.49  27.183344  3.576597  \n",
       "2015-10-30  2.883091  13.419142   3.55  27.416006  3.601491  "
      ]
     },
     "execution_count": 89,
     "metadata": {},
     "output_type": "execute_result"
    }
   ],
   "source": [
    "df.head()"
   ]
  },
  {
   "cell_type": "code",
   "execution_count": 90,
   "metadata": {},
   "outputs": [
    {
     "data": {
      "text/html": [
       "<div>\n",
       "<style scoped>\n",
       "    .dataframe tbody tr th:only-of-type {\n",
       "        vertical-align: middle;\n",
       "    }\n",
       "\n",
       "    .dataframe tbody tr th {\n",
       "        vertical-align: top;\n",
       "    }\n",
       "\n",
       "    .dataframe thead th {\n",
       "        text-align: right;\n",
       "    }\n",
       "</style>\n",
       "<table border=\"1\" class=\"dataframe\">\n",
       "  <thead>\n",
       "    <tr style=\"text-align: right;\">\n",
       "      <th></th>\n",
       "      <th>ACN</th>\n",
       "      <th>AMZN</th>\n",
       "      <th>BLK</th>\n",
       "      <th>COST</th>\n",
       "      <th>DIS</th>\n",
       "      <th>F</th>\n",
       "      <th>GILD</th>\n",
       "      <th>JPM</th>\n",
       "      <th>KO</th>\n",
       "      <th>LUV</th>\n",
       "      <th>MA</th>\n",
       "      <th>MMM</th>\n",
       "      <th>MS</th>\n",
       "      <th>MSFT</th>\n",
       "      <th>PFE</th>\n",
       "      <th>T</th>\n",
       "      <th>TSLA</th>\n",
       "      <th>TWTR</th>\n",
       "      <th>UNH</th>\n",
       "      <th>XOM</th>\n",
       "    </tr>\n",
       "    <tr>\n",
       "      <th>Date</th>\n",
       "      <th></th>\n",
       "      <th></th>\n",
       "      <th></th>\n",
       "      <th></th>\n",
       "      <th></th>\n",
       "      <th></th>\n",
       "      <th></th>\n",
       "      <th></th>\n",
       "      <th></th>\n",
       "      <th></th>\n",
       "      <th></th>\n",
       "      <th></th>\n",
       "      <th></th>\n",
       "      <th></th>\n",
       "      <th></th>\n",
       "      <th></th>\n",
       "      <th></th>\n",
       "      <th></th>\n",
       "      <th></th>\n",
       "      <th></th>\n",
       "    </tr>\n",
       "  </thead>\n",
       "  <tbody>\n",
       "    <tr>\n",
       "      <th>2020-10-20</th>\n",
       "      <td>230.389999</td>\n",
       "      <td>3217.010010</td>\n",
       "      <td>645.070007</td>\n",
       "      <td>378.309998</td>\n",
       "      <td>124.949997</td>\n",
       "      <td>7.74</td>\n",
       "      <td>60.549999</td>\n",
       "      <td>100.370003</td>\n",
       "      <td>50.250000</td>\n",
       "      <td>40.160000</td>\n",
       "      <td>331.720001</td>\n",
       "      <td>170.949997</td>\n",
       "      <td>51.470001</td>\n",
       "      <td>214.649994</td>\n",
       "      <td>37.490002</td>\n",
       "      <td>26.760000</td>\n",
       "      <td>421.940002</td>\n",
       "      <td>46.349998</td>\n",
       "      <td>323.410004</td>\n",
       "      <td>33.700001</td>\n",
       "    </tr>\n",
       "    <tr>\n",
       "      <th>2020-10-21</th>\n",
       "      <td>233.100006</td>\n",
       "      <td>3184.939941</td>\n",
       "      <td>634.989990</td>\n",
       "      <td>377.820007</td>\n",
       "      <td>126.629997</td>\n",
       "      <td>7.85</td>\n",
       "      <td>60.209999</td>\n",
       "      <td>99.370003</td>\n",
       "      <td>49.990002</td>\n",
       "      <td>39.840000</td>\n",
       "      <td>333.420013</td>\n",
       "      <td>169.169998</td>\n",
       "      <td>50.380001</td>\n",
       "      <td>214.800003</td>\n",
       "      <td>37.080002</td>\n",
       "      <td>26.719999</td>\n",
       "      <td>422.640015</td>\n",
       "      <td>50.240002</td>\n",
       "      <td>322.790009</td>\n",
       "      <td>33.160000</td>\n",
       "    </tr>\n",
       "    <tr>\n",
       "      <th>2020-10-22</th>\n",
       "      <td>228.139999</td>\n",
       "      <td>3176.399902</td>\n",
       "      <td>635.179993</td>\n",
       "      <td>375.750000</td>\n",
       "      <td>127.559998</td>\n",
       "      <td>8.21</td>\n",
       "      <td>60.669998</td>\n",
       "      <td>102.879997</td>\n",
       "      <td>50.680000</td>\n",
       "      <td>41.930000</td>\n",
       "      <td>333.600006</td>\n",
       "      <td>170.710007</td>\n",
       "      <td>51.770000</td>\n",
       "      <td>214.889999</td>\n",
       "      <td>37.430000</td>\n",
       "      <td>28.280001</td>\n",
       "      <td>425.790009</td>\n",
       "      <td>50.279999</td>\n",
       "      <td>325.730011</td>\n",
       "      <td>34.860001</td>\n",
       "    </tr>\n",
       "    <tr>\n",
       "      <th>2020-10-23</th>\n",
       "      <td>229.699997</td>\n",
       "      <td>3204.399902</td>\n",
       "      <td>637.309998</td>\n",
       "      <td>374.600006</td>\n",
       "      <td>128.350006</td>\n",
       "      <td>8.16</td>\n",
       "      <td>60.790001</td>\n",
       "      <td>103.809998</td>\n",
       "      <td>50.520000</td>\n",
       "      <td>42.790001</td>\n",
       "      <td>329.609985</td>\n",
       "      <td>169.800003</td>\n",
       "      <td>51.869999</td>\n",
       "      <td>216.229996</td>\n",
       "      <td>38.180000</td>\n",
       "      <td>27.820000</td>\n",
       "      <td>420.630005</td>\n",
       "      <td>50.439999</td>\n",
       "      <td>330.600006</td>\n",
       "      <td>34.160000</td>\n",
       "    </tr>\n",
       "    <tr>\n",
       "      <th>2020-10-26</th>\n",
       "      <td>220.699997</td>\n",
       "      <td>3223.165039</td>\n",
       "      <td>621.580017</td>\n",
       "      <td>368.929993</td>\n",
       "      <td>124.764999</td>\n",
       "      <td>7.98</td>\n",
       "      <td>59.586700</td>\n",
       "      <td>101.139999</td>\n",
       "      <td>49.525002</td>\n",
       "      <td>41.361698</td>\n",
       "      <td>319.519897</td>\n",
       "      <td>166.250000</td>\n",
       "      <td>50.270000</td>\n",
       "      <td>212.927704</td>\n",
       "      <td>37.580002</td>\n",
       "      <td>27.305000</td>\n",
       "      <td>417.954987</td>\n",
       "      <td>49.654999</td>\n",
       "      <td>323.225006</td>\n",
       "      <td>33.154999</td>\n",
       "    </tr>\n",
       "  </tbody>\n",
       "</table>\n",
       "</div>"
      ],
      "text/plain": [
       "                   ACN         AMZN         BLK        COST         DIS     F  \\\n",
       "Date                                                                            \n",
       "2020-10-20  230.389999  3217.010010  645.070007  378.309998  124.949997  7.74   \n",
       "2020-10-21  233.100006  3184.939941  634.989990  377.820007  126.629997  7.85   \n",
       "2020-10-22  228.139999  3176.399902  635.179993  375.750000  127.559998  8.21   \n",
       "2020-10-23  229.699997  3204.399902  637.309998  374.600006  128.350006  8.16   \n",
       "2020-10-26  220.699997  3223.165039  621.580017  368.929993  124.764999  7.98   \n",
       "\n",
       "                 GILD         JPM         KO        LUV          MA  \\\n",
       "Date                                                                  \n",
       "2020-10-20  60.549999  100.370003  50.250000  40.160000  331.720001   \n",
       "2020-10-21  60.209999   99.370003  49.990002  39.840000  333.420013   \n",
       "2020-10-22  60.669998  102.879997  50.680000  41.930000  333.600006   \n",
       "2020-10-23  60.790001  103.809998  50.520000  42.790001  329.609985   \n",
       "2020-10-26  59.586700  101.139999  49.525002  41.361698  319.519897   \n",
       "\n",
       "                   MMM         MS        MSFT        PFE          T  \\\n",
       "Date                                                                  \n",
       "2020-10-20  170.949997  51.470001  214.649994  37.490002  26.760000   \n",
       "2020-10-21  169.169998  50.380001  214.800003  37.080002  26.719999   \n",
       "2020-10-22  170.710007  51.770000  214.889999  37.430000  28.280001   \n",
       "2020-10-23  169.800003  51.869999  216.229996  38.180000  27.820000   \n",
       "2020-10-26  166.250000  50.270000  212.927704  37.580002  27.305000   \n",
       "\n",
       "                  TSLA       TWTR         UNH        XOM  \n",
       "Date                                                      \n",
       "2020-10-20  421.940002  46.349998  323.410004  33.700001  \n",
       "2020-10-21  422.640015  50.240002  322.790009  33.160000  \n",
       "2020-10-22  425.790009  50.279999  325.730011  34.860001  \n",
       "2020-10-23  420.630005  50.439999  330.600006  34.160000  \n",
       "2020-10-26  417.954987  49.654999  323.225006  33.154999  "
      ]
     },
     "execution_count": 90,
     "metadata": {},
     "output_type": "execute_result"
    }
   ],
   "source": [
    "prices = ohlc[\"Adj Close\"]\n",
    "prices.tail()"
   ]
  },
  {
   "cell_type": "code",
   "execution_count": 91,
   "metadata": {},
   "outputs": [],
   "source": [
    "# now we will calculate the covariance matrix, input for the MV portfolio"
   ]
  },
  {
   "cell_type": "code",
   "execution_count": 92,
   "metadata": {},
   "outputs": [
    {
     "data": {
      "text/plain": [
       "'1.2.6'"
      ]
     },
     "execution_count": 92,
     "metadata": {},
     "output_type": "execute_result"
    }
   ],
   "source": [
    "import pypfopt\n",
    "pypfopt.__version__"
   ]
  },
  {
   "cell_type": "code",
   "execution_count": 93,
   "metadata": {},
   "outputs": [
    {
     "data": {
      "text/plain": [
       "ITSA4    0.169530\n",
       "GOAU4    0.275060\n",
       "CMIG3    0.236142\n",
       "PETR4    0.258651\n",
       "TOTS3    0.152013\n",
       "Name: mkt, dtype: float64"
      ]
     },
     "execution_count": 93,
     "metadata": {},
     "output_type": "execute_result"
    }
   ],
   "source": [
    "returns = expected_returns.capm_return(df)\n",
    "returns.head()"
   ]
  },
  {
   "cell_type": "code",
   "execution_count": 94,
   "metadata": {},
   "outputs": [
    {
     "data": {
      "text/html": [
       "<div>\n",
       "<style scoped>\n",
       "    .dataframe tbody tr th:only-of-type {\n",
       "        vertical-align: middle;\n",
       "    }\n",
       "\n",
       "    .dataframe tbody tr th {\n",
       "        vertical-align: top;\n",
       "    }\n",
       "\n",
       "    .dataframe thead th {\n",
       "        text-align: right;\n",
       "    }\n",
       "</style>\n",
       "<table border=\"1\" class=\"dataframe\">\n",
       "  <thead>\n",
       "    <tr style=\"text-align: right;\">\n",
       "      <th></th>\n",
       "      <th>ITSA4</th>\n",
       "      <th>GOAU4</th>\n",
       "      <th>CMIG3</th>\n",
       "      <th>PETR4</th>\n",
       "      <th>TOTS3</th>\n",
       "      <th>USIM5</th>\n",
       "      <th>LAME4</th>\n",
       "      <th>BBAS3</th>\n",
       "      <th>CIEL3</th>\n",
       "      <th>LIGT3</th>\n",
       "      <th>ABEV3</th>\n",
       "      <th>KLBN11</th>\n",
       "      <th>VVAR3</th>\n",
       "      <th>CVCB3</th>\n",
       "      <th>GOLL4</th>\n",
       "      <th>EMBR3</th>\n",
       "      <th>CSNA3</th>\n",
       "    </tr>\n",
       "  </thead>\n",
       "  <tbody>\n",
       "    <tr>\n",
       "      <th>ITSA4</th>\n",
       "      <td>0.106266</td>\n",
       "      <td>0.094993</td>\n",
       "      <td>0.098203</td>\n",
       "      <td>0.104835</td>\n",
       "      <td>0.050166</td>\n",
       "      <td>0.104282</td>\n",
       "      <td>0.075074</td>\n",
       "      <td>0.123885</td>\n",
       "      <td>0.067584</td>\n",
       "      <td>0.087071</td>\n",
       "      <td>0.044329</td>\n",
       "      <td>0.023509</td>\n",
       "      <td>0.081927</td>\n",
       "      <td>0.093132</td>\n",
       "      <td>0.142570</td>\n",
       "      <td>0.055744</td>\n",
       "      <td>0.102228</td>\n",
       "    </tr>\n",
       "    <tr>\n",
       "      <th>GOAU4</th>\n",
       "      <td>0.094993</td>\n",
       "      <td>0.328751</td>\n",
       "      <td>0.139799</td>\n",
       "      <td>0.177492</td>\n",
       "      <td>0.071271</td>\n",
       "      <td>0.274447</td>\n",
       "      <td>0.103135</td>\n",
       "      <td>0.154817</td>\n",
       "      <td>0.087976</td>\n",
       "      <td>0.125427</td>\n",
       "      <td>0.056984</td>\n",
       "      <td>0.047403</td>\n",
       "      <td>0.140966</td>\n",
       "      <td>0.128543</td>\n",
       "      <td>0.217926</td>\n",
       "      <td>0.075680</td>\n",
       "      <td>0.257616</td>\n",
       "    </tr>\n",
       "    <tr>\n",
       "      <th>CMIG3</th>\n",
       "      <td>0.098203</td>\n",
       "      <td>0.139799</td>\n",
       "      <td>0.240716</td>\n",
       "      <td>0.139415</td>\n",
       "      <td>0.066079</td>\n",
       "      <td>0.159084</td>\n",
       "      <td>0.104854</td>\n",
       "      <td>0.148635</td>\n",
       "      <td>0.079999</td>\n",
       "      <td>0.159106</td>\n",
       "      <td>0.055980</td>\n",
       "      <td>0.031726</td>\n",
       "      <td>0.118915</td>\n",
       "      <td>0.126809</td>\n",
       "      <td>0.214762</td>\n",
       "      <td>0.069165</td>\n",
       "      <td>0.151079</td>\n",
       "    </tr>\n",
       "    <tr>\n",
       "      <th>PETR4</th>\n",
       "      <td>0.104835</td>\n",
       "      <td>0.177492</td>\n",
       "      <td>0.139415</td>\n",
       "      <td>0.277875</td>\n",
       "      <td>0.073124</td>\n",
       "      <td>0.191634</td>\n",
       "      <td>0.114993</td>\n",
       "      <td>0.172577</td>\n",
       "      <td>0.092070</td>\n",
       "      <td>0.119288</td>\n",
       "      <td>0.058783</td>\n",
       "      <td>0.045892</td>\n",
       "      <td>0.119123</td>\n",
       "      <td>0.137196</td>\n",
       "      <td>0.219356</td>\n",
       "      <td>0.080450</td>\n",
       "      <td>0.199364</td>\n",
       "    </tr>\n",
       "    <tr>\n",
       "      <th>TOTS3</th>\n",
       "      <td>0.050166</td>\n",
       "      <td>0.071271</td>\n",
       "      <td>0.066079</td>\n",
       "      <td>0.073124</td>\n",
       "      <td>0.240080</td>\n",
       "      <td>0.065111</td>\n",
       "      <td>0.065522</td>\n",
       "      <td>0.075296</td>\n",
       "      <td>0.072754</td>\n",
       "      <td>0.056432</td>\n",
       "      <td>0.036927</td>\n",
       "      <td>0.027804</td>\n",
       "      <td>0.074328</td>\n",
       "      <td>0.074532</td>\n",
       "      <td>0.108289</td>\n",
       "      <td>0.051181</td>\n",
       "      <td>0.076359</td>\n",
       "    </tr>\n",
       "    <tr>\n",
       "      <th>USIM5</th>\n",
       "      <td>0.104282</td>\n",
       "      <td>0.274447</td>\n",
       "      <td>0.159084</td>\n",
       "      <td>0.191634</td>\n",
       "      <td>0.065111</td>\n",
       "      <td>0.433124</td>\n",
       "      <td>0.115517</td>\n",
       "      <td>0.175969</td>\n",
       "      <td>0.102846</td>\n",
       "      <td>0.141380</td>\n",
       "      <td>0.056395</td>\n",
       "      <td>0.044733</td>\n",
       "      <td>0.152370</td>\n",
       "      <td>0.143734</td>\n",
       "      <td>0.270876</td>\n",
       "      <td>0.074938</td>\n",
       "      <td>0.294184</td>\n",
       "    </tr>\n",
       "    <tr>\n",
       "      <th>LAME4</th>\n",
       "      <td>0.075074</td>\n",
       "      <td>0.103135</td>\n",
       "      <td>0.104854</td>\n",
       "      <td>0.114993</td>\n",
       "      <td>0.065522</td>\n",
       "      <td>0.115517</td>\n",
       "      <td>0.179010</td>\n",
       "      <td>0.114198</td>\n",
       "      <td>0.079862</td>\n",
       "      <td>0.084227</td>\n",
       "      <td>0.053773</td>\n",
       "      <td>0.037566</td>\n",
       "      <td>0.129063</td>\n",
       "      <td>0.121231</td>\n",
       "      <td>0.157290</td>\n",
       "      <td>0.052131</td>\n",
       "      <td>0.115123</td>\n",
       "    </tr>\n",
       "    <tr>\n",
       "      <th>BBAS3</th>\n",
       "      <td>0.123885</td>\n",
       "      <td>0.154817</td>\n",
       "      <td>0.148635</td>\n",
       "      <td>0.172577</td>\n",
       "      <td>0.075296</td>\n",
       "      <td>0.175969</td>\n",
       "      <td>0.114198</td>\n",
       "      <td>0.227995</td>\n",
       "      <td>0.095646</td>\n",
       "      <td>0.131219</td>\n",
       "      <td>0.055649</td>\n",
       "      <td>0.030508</td>\n",
       "      <td>0.138464</td>\n",
       "      <td>0.143079</td>\n",
       "      <td>0.216086</td>\n",
       "      <td>0.073787</td>\n",
       "      <td>0.159577</td>\n",
       "    </tr>\n",
       "    <tr>\n",
       "      <th>CIEL3</th>\n",
       "      <td>0.067584</td>\n",
       "      <td>0.087976</td>\n",
       "      <td>0.079999</td>\n",
       "      <td>0.092070</td>\n",
       "      <td>0.072754</td>\n",
       "      <td>0.102846</td>\n",
       "      <td>0.079862</td>\n",
       "      <td>0.095646</td>\n",
       "      <td>0.223958</td>\n",
       "      <td>0.084380</td>\n",
       "      <td>0.052282</td>\n",
       "      <td>0.026414</td>\n",
       "      <td>0.091474</td>\n",
       "      <td>0.089493</td>\n",
       "      <td>0.135835</td>\n",
       "      <td>0.062857</td>\n",
       "      <td>0.097090</td>\n",
       "    </tr>\n",
       "    <tr>\n",
       "      <th>LIGT3</th>\n",
       "      <td>0.087071</td>\n",
       "      <td>0.125427</td>\n",
       "      <td>0.159106</td>\n",
       "      <td>0.119288</td>\n",
       "      <td>0.056432</td>\n",
       "      <td>0.141380</td>\n",
       "      <td>0.084227</td>\n",
       "      <td>0.131219</td>\n",
       "      <td>0.084380</td>\n",
       "      <td>0.287086</td>\n",
       "      <td>0.051788</td>\n",
       "      <td>0.025331</td>\n",
       "      <td>0.138131</td>\n",
       "      <td>0.133126</td>\n",
       "      <td>0.208813</td>\n",
       "      <td>0.069075</td>\n",
       "      <td>0.121305</td>\n",
       "    </tr>\n",
       "    <tr>\n",
       "      <th>ABEV3</th>\n",
       "      <td>0.044329</td>\n",
       "      <td>0.056984</td>\n",
       "      <td>0.055980</td>\n",
       "      <td>0.058783</td>\n",
       "      <td>0.036927</td>\n",
       "      <td>0.056395</td>\n",
       "      <td>0.053773</td>\n",
       "      <td>0.055649</td>\n",
       "      <td>0.052282</td>\n",
       "      <td>0.051788</td>\n",
       "      <td>0.077112</td>\n",
       "      <td>0.027542</td>\n",
       "      <td>0.053780</td>\n",
       "      <td>0.073001</td>\n",
       "      <td>0.090850</td>\n",
       "      <td>0.045628</td>\n",
       "      <td>0.063757</td>\n",
       "    </tr>\n",
       "    <tr>\n",
       "      <th>KLBN11</th>\n",
       "      <td>0.023509</td>\n",
       "      <td>0.047403</td>\n",
       "      <td>0.031726</td>\n",
       "      <td>0.045892</td>\n",
       "      <td>0.027804</td>\n",
       "      <td>0.044733</td>\n",
       "      <td>0.037566</td>\n",
       "      <td>0.030508</td>\n",
       "      <td>0.026414</td>\n",
       "      <td>0.025331</td>\n",
       "      <td>0.027542</td>\n",
       "      <td>0.107001</td>\n",
       "      <td>0.051576</td>\n",
       "      <td>0.038653</td>\n",
       "      <td>0.039819</td>\n",
       "      <td>0.042670</td>\n",
       "      <td>0.053184</td>\n",
       "    </tr>\n",
       "    <tr>\n",
       "      <th>VVAR3</th>\n",
       "      <td>0.081927</td>\n",
       "      <td>0.140966</td>\n",
       "      <td>0.118915</td>\n",
       "      <td>0.119123</td>\n",
       "      <td>0.074328</td>\n",
       "      <td>0.152370</td>\n",
       "      <td>0.129063</td>\n",
       "      <td>0.138464</td>\n",
       "      <td>0.091474</td>\n",
       "      <td>0.138131</td>\n",
       "      <td>0.053780</td>\n",
       "      <td>0.051576</td>\n",
       "      <td>0.559256</td>\n",
       "      <td>0.157768</td>\n",
       "      <td>0.203400</td>\n",
       "      <td>0.082537</td>\n",
       "      <td>0.156807</td>\n",
       "    </tr>\n",
       "    <tr>\n",
       "      <th>CVCB3</th>\n",
       "      <td>0.093132</td>\n",
       "      <td>0.128543</td>\n",
       "      <td>0.126809</td>\n",
       "      <td>0.137196</td>\n",
       "      <td>0.074532</td>\n",
       "      <td>0.143734</td>\n",
       "      <td>0.121231</td>\n",
       "      <td>0.143079</td>\n",
       "      <td>0.089493</td>\n",
       "      <td>0.133126</td>\n",
       "      <td>0.073001</td>\n",
       "      <td>0.038653</td>\n",
       "      <td>0.157768</td>\n",
       "      <td>0.331533</td>\n",
       "      <td>0.251815</td>\n",
       "      <td>0.093488</td>\n",
       "      <td>0.127681</td>\n",
       "    </tr>\n",
       "    <tr>\n",
       "      <th>GOLL4</th>\n",
       "      <td>0.142570</td>\n",
       "      <td>0.217926</td>\n",
       "      <td>0.214762</td>\n",
       "      <td>0.219356</td>\n",
       "      <td>0.108289</td>\n",
       "      <td>0.270876</td>\n",
       "      <td>0.157290</td>\n",
       "      <td>0.216086</td>\n",
       "      <td>0.135835</td>\n",
       "      <td>0.208813</td>\n",
       "      <td>0.090850</td>\n",
       "      <td>0.039819</td>\n",
       "      <td>0.203400</td>\n",
       "      <td>0.251815</td>\n",
       "      <td>0.717684</td>\n",
       "      <td>0.120907</td>\n",
       "      <td>0.219959</td>\n",
       "    </tr>\n",
       "    <tr>\n",
       "      <th>EMBR3</th>\n",
       "      <td>0.055744</td>\n",
       "      <td>0.075680</td>\n",
       "      <td>0.069165</td>\n",
       "      <td>0.080450</td>\n",
       "      <td>0.051181</td>\n",
       "      <td>0.074938</td>\n",
       "      <td>0.052131</td>\n",
       "      <td>0.073787</td>\n",
       "      <td>0.062857</td>\n",
       "      <td>0.069075</td>\n",
       "      <td>0.045628</td>\n",
       "      <td>0.042670</td>\n",
       "      <td>0.082537</td>\n",
       "      <td>0.093488</td>\n",
       "      <td>0.120907</td>\n",
       "      <td>0.205053</td>\n",
       "      <td>0.090450</td>\n",
       "    </tr>\n",
       "    <tr>\n",
       "      <th>CSNA3</th>\n",
       "      <td>0.102228</td>\n",
       "      <td>0.257616</td>\n",
       "      <td>0.151079</td>\n",
       "      <td>0.199364</td>\n",
       "      <td>0.076359</td>\n",
       "      <td>0.294184</td>\n",
       "      <td>0.115123</td>\n",
       "      <td>0.159577</td>\n",
       "      <td>0.097090</td>\n",
       "      <td>0.121305</td>\n",
       "      <td>0.063757</td>\n",
       "      <td>0.053184</td>\n",
       "      <td>0.156807</td>\n",
       "      <td>0.127681</td>\n",
       "      <td>0.219959</td>\n",
       "      <td>0.090450</td>\n",
       "      <td>0.414842</td>\n",
       "    </tr>\n",
       "  </tbody>\n",
       "</table>\n",
       "</div>"
      ],
      "text/plain": [
       "           ITSA4     GOAU4     CMIG3     PETR4     TOTS3     USIM5     LAME4  \\\n",
       "ITSA4   0.106266  0.094993  0.098203  0.104835  0.050166  0.104282  0.075074   \n",
       "GOAU4   0.094993  0.328751  0.139799  0.177492  0.071271  0.274447  0.103135   \n",
       "CMIG3   0.098203  0.139799  0.240716  0.139415  0.066079  0.159084  0.104854   \n",
       "PETR4   0.104835  0.177492  0.139415  0.277875  0.073124  0.191634  0.114993   \n",
       "TOTS3   0.050166  0.071271  0.066079  0.073124  0.240080  0.065111  0.065522   \n",
       "USIM5   0.104282  0.274447  0.159084  0.191634  0.065111  0.433124  0.115517   \n",
       "LAME4   0.075074  0.103135  0.104854  0.114993  0.065522  0.115517  0.179010   \n",
       "BBAS3   0.123885  0.154817  0.148635  0.172577  0.075296  0.175969  0.114198   \n",
       "CIEL3   0.067584  0.087976  0.079999  0.092070  0.072754  0.102846  0.079862   \n",
       "LIGT3   0.087071  0.125427  0.159106  0.119288  0.056432  0.141380  0.084227   \n",
       "ABEV3   0.044329  0.056984  0.055980  0.058783  0.036927  0.056395  0.053773   \n",
       "KLBN11  0.023509  0.047403  0.031726  0.045892  0.027804  0.044733  0.037566   \n",
       "VVAR3   0.081927  0.140966  0.118915  0.119123  0.074328  0.152370  0.129063   \n",
       "CVCB3   0.093132  0.128543  0.126809  0.137196  0.074532  0.143734  0.121231   \n",
       "GOLL4   0.142570  0.217926  0.214762  0.219356  0.108289  0.270876  0.157290   \n",
       "EMBR3   0.055744  0.075680  0.069165  0.080450  0.051181  0.074938  0.052131   \n",
       "CSNA3   0.102228  0.257616  0.151079  0.199364  0.076359  0.294184  0.115123   \n",
       "\n",
       "           BBAS3     CIEL3     LIGT3     ABEV3    KLBN11     VVAR3     CVCB3  \\\n",
       "ITSA4   0.123885  0.067584  0.087071  0.044329  0.023509  0.081927  0.093132   \n",
       "GOAU4   0.154817  0.087976  0.125427  0.056984  0.047403  0.140966  0.128543   \n",
       "CMIG3   0.148635  0.079999  0.159106  0.055980  0.031726  0.118915  0.126809   \n",
       "PETR4   0.172577  0.092070  0.119288  0.058783  0.045892  0.119123  0.137196   \n",
       "TOTS3   0.075296  0.072754  0.056432  0.036927  0.027804  0.074328  0.074532   \n",
       "USIM5   0.175969  0.102846  0.141380  0.056395  0.044733  0.152370  0.143734   \n",
       "LAME4   0.114198  0.079862  0.084227  0.053773  0.037566  0.129063  0.121231   \n",
       "BBAS3   0.227995  0.095646  0.131219  0.055649  0.030508  0.138464  0.143079   \n",
       "CIEL3   0.095646  0.223958  0.084380  0.052282  0.026414  0.091474  0.089493   \n",
       "LIGT3   0.131219  0.084380  0.287086  0.051788  0.025331  0.138131  0.133126   \n",
       "ABEV3   0.055649  0.052282  0.051788  0.077112  0.027542  0.053780  0.073001   \n",
       "KLBN11  0.030508  0.026414  0.025331  0.027542  0.107001  0.051576  0.038653   \n",
       "VVAR3   0.138464  0.091474  0.138131  0.053780  0.051576  0.559256  0.157768   \n",
       "CVCB3   0.143079  0.089493  0.133126  0.073001  0.038653  0.157768  0.331533   \n",
       "GOLL4   0.216086  0.135835  0.208813  0.090850  0.039819  0.203400  0.251815   \n",
       "EMBR3   0.073787  0.062857  0.069075  0.045628  0.042670  0.082537  0.093488   \n",
       "CSNA3   0.159577  0.097090  0.121305  0.063757  0.053184  0.156807  0.127681   \n",
       "\n",
       "           GOLL4     EMBR3     CSNA3  \n",
       "ITSA4   0.142570  0.055744  0.102228  \n",
       "GOAU4   0.217926  0.075680  0.257616  \n",
       "CMIG3   0.214762  0.069165  0.151079  \n",
       "PETR4   0.219356  0.080450  0.199364  \n",
       "TOTS3   0.108289  0.051181  0.076359  \n",
       "USIM5   0.270876  0.074938  0.294184  \n",
       "LAME4   0.157290  0.052131  0.115123  \n",
       "BBAS3   0.216086  0.073787  0.159577  \n",
       "CIEL3   0.135835  0.062857  0.097090  \n",
       "LIGT3   0.208813  0.069075  0.121305  \n",
       "ABEV3   0.090850  0.045628  0.063757  \n",
       "KLBN11  0.039819  0.042670  0.053184  \n",
       "VVAR3   0.203400  0.082537  0.156807  \n",
       "CVCB3   0.251815  0.093488  0.127681  \n",
       "GOLL4   0.717684  0.120907  0.219959  \n",
       "EMBR3   0.120907  0.205053  0.090450  \n",
       "CSNA3   0.219959  0.090450  0.414842  "
      ]
     },
     "execution_count": 94,
     "metadata": {},
     "output_type": "execute_result"
    }
   ],
   "source": [
    "import pandas as pd\n",
    "import numpy as np\n",
    "import cvxpy as cp\n",
    "from pypfopt import risk_models\n",
    "from pypfopt import expected_returns\n",
    "from pypfopt import EfficientFrontier\n",
    "from pypfopt import objective_functions\n",
    "from pypfopt.discrete_allocation import DiscreteAllocation, get_latest_prices\n",
    "from pypfopt import HRPOpt\n",
    "from pypfopt import CLA\n",
    "from pypfopt import black_litterman\n",
    "from pypfopt import BlackLittermanModel\n",
    "from pypfopt import plotting\n",
    "\n",
    "sample_cov = risk_models.sample_cov(df, frequency=252)\n",
    "sample_cov"
   ]
  },
  {
   "cell_type": "code",
   "execution_count": 95,
   "metadata": {},
   "outputs": [
    {
     "data": {
      "image/png": "[encoded data removed]",
      "text/plain": [
       "<Figure size 432x288 with 2 Axes>"
      ]
     },
     "metadata": {
      "needs_background": "light"
     },
     "output_type": "display_data"
    }
   ],
   "source": [
    "plotting.plot_covariance(sample_cov, plot_correlation=True);"
   ]
  },
  {
   "cell_type": "code",
   "execution_count": 96,
   "metadata": {},
   "outputs": [
    {
     "data": {
      "image/png": "[encoded data removed]",
      "text/plain": [
       "<Figure size 432x288 with 2 Axes>"
      ]
     },
     "metadata": {
      "needs_background": "light"
     },
     "output_type": "display_data"
    }
   ],
   "source": [
    "# shrinking the covariance matrix with Ledoit-Wolf shrinkage model:\n",
    "S = risk_models.CovarianceShrinkage(df).ledoit_wolf()\n",
    "plotting.plot_covariance(S, plot_correlation=True);"
   ]
  },
  {
   "cell_type": "code",
   "execution_count": 97,
   "metadata": {},
   "outputs": [
    {
     "data": {
      "text/plain": [
       "ITSA4     0.169530\n",
       "GOAU4     0.275060\n",
       "CMIG3     0.236142\n",
       "PETR4     0.258651\n",
       "TOTS3     0.152013\n",
       "USIM5     0.307661\n",
       "LAME4     0.194876\n",
       "BBAS3     0.249809\n",
       "CIEL3     0.178437\n",
       "LIGT3     0.227808\n",
       "ABEV3     0.118046\n",
       "KLBN11    0.092036\n",
       "VVAR3     0.271635\n",
       "CVCB3     0.252626\n",
       "GOLL4     0.383218\n",
       "EMBR3     0.158225\n",
       "CSNA3     0.297387\n",
       "Name: mkt, dtype: float64"
      ]
     },
     "execution_count": 97,
     "metadata": {},
     "output_type": "execute_result"
    }
   ],
   "source": [
    "# return estimation is another necessary input for the portfolio optimisation. this example uses capm returns, \n",
    "# which aims to be slightly more stable than the defult mean historical returns:\n",
    "\n",
    "from pypfopt import expected_returns\n",
    "\n",
    "mu = expected_returns.capm_return(df)\n",
    "mu"
   ]
  },
  {
   "cell_type": "code",
   "execution_count": 98,
   "metadata": {},
   "outputs": [
    {
     "data": {
      "image/png": "[encoded data removed]",
      "text/plain": [
       "<Figure size 720x432 with 1 Axes>"
      ]
     },
     "metadata": {
      "needs_background": "light"
     },
     "output_type": "display_data"
    }
   ],
   "source": [
    "mu.plot.barh(figsize=(10,6));"
   ]
  },
  {
   "cell_type": "code",
   "execution_count": 152,
   "metadata": {},
   "outputs": [
    {
     "name": "stderr",
     "output_type": "stream",
     "text": [
      "/Users/Grilli/opt/anaconda3/lib/python3.7/site-packages/pypfopt/efficient_frontier.py:112: UserWarning: No expected returns provided. You may only use ef.min_volatility()\n",
      "  \"No expected returns provided. You may only use ef.min_volatility()\"\n"
     ]
    },
    {
     "data": {
      "text/plain": [
       "OrderedDict([('ITSA4', 0.30706),\n",
       "             ('GOAU4', 0.00295),\n",
       "             ('CMIG3', 0.00255),\n",
       "             ('PETR4', -0.02352),\n",
       "             ('TOTS3', 0.08104),\n",
       "             ('USIM5', 0.02529),\n",
       "             ('LAME4', 0.0465),\n",
       "             ('BBAS3', -0.07457),\n",
       "             ('CIEL3', 0.03276),\n",
       "             ('LIGT3', 0.04306),\n",
       "             ('ABEV3', 0.36094),\n",
       "             ('KLBN11', 0.27975),\n",
       "             ('VVAR3', -0.00425),\n",
       "             ('CVCB3', -0.03293),\n",
       "             ('GOLL4', -0.05811),\n",
       "             ('EMBR3', 0.05667),\n",
       "             ('CSNA3', -0.04518)])"
      ]
     },
     "execution_count": 152,
     "metadata": {},
     "output_type": "execute_result"
    }
   ],
   "source": [
    "# when dealing with MVP, constraints to the investments are frequent. long/short min variance is used in\n",
    "# this example. \n",
    "\n",
    "from pypfopt import EfficientFrontier\n",
    "S = risk_models.CovarianceShrinkage(df).ledoit_wolf()\n",
    "\n",
    "ef = EfficientFrontier(None, S, weight_bounds=(None, None))\n",
    "ef.min_volatility()\n",
    "weights = ef.clean_weights()\n",
    "weights"
   ]
  },
  {
   "cell_type": "code",
   "execution_count": 153,
   "metadata": {},
   "outputs": [
    {
     "data": {
      "image/png": "[encoded data removed]",
      "text/plain": [
       "<Figure size 432x288 with 1 Axes>"
      ]
     },
     "metadata": {
      "needs_background": "light"
     },
     "output_type": "display_data"
    }
   ],
   "source": [
    "pd.Series(weights).plot.barh();"
   ]
  },
  {
   "cell_type": "code",
   "execution_count": 154,
   "metadata": {},
   "outputs": [],
   "source": [
    "# the following code outputs a indication of our portfolio's performance. this is as the sample estimate\n",
    "# and may have very little resemblance to how the portfolio actually performs - theory guides us, but it is\n",
    "# not perfect. if we are happy with the portfolio, we can construct the actual allocation on the next code"
   ]
  },
  {
   "cell_type": "code",
   "execution_count": 155,
   "metadata": {},
   "outputs": [
    {
     "name": "stdout",
     "output_type": "stream",
     "text": [
      "Annual volatility: 21.9%\n"
     ]
    },
    {
     "data": {
      "text/plain": [
       "(None, 0.21946880525432455, None)"
      ]
     },
     "execution_count": 155,
     "metadata": {},
     "output_type": "execute_result"
    }
   ],
   "source": [
    "ef.portfolio_performance(verbose=True)"
   ]
  },
  {
   "cell_type": "code",
   "execution_count": 156,
   "metadata": {},
   "outputs": [],
   "source": [
    "# if we had 100,000 to invest and we would like our portfolio to be 125/25 long/short:"
   ]
  },
  {
   "cell_type": "code",
   "execution_count": 208,
   "metadata": {},
   "outputs": [
    {
     "name": "stdout",
     "output_type": "stream",
     "text": [
      "Discrete allocation performed with ${leftover:.2f} leftover\n"
     ]
    },
    {
     "data": {
      "text/plain": [
       "{'ITSA4': 1291,\n",
       " 'GOAU4': 214,\n",
       " 'CMIG3': 329,\n",
       " 'PETR4': 68,\n",
       " 'TOTS3': 328,\n",
       " 'USIM5': 85,\n",
       " 'LAME4': 276,\n",
       " 'BBAS3': 52,\n",
       " 'CIEL3': 1914,\n",
       " 'LIGT3': 256,\n",
       " 'ABEV3': 1300,\n",
       " 'KLBN11': 754,\n",
       " 'VVAR3': 69,\n",
       " 'CVCB3': 72,\n",
       " 'EMBR3': 1271}"
      ]
     },
     "execution_count": 208,
     "metadata": {},
     "output_type": "execute_result"
    }
   ],
   "source": [
    "from pypfopt import DiscreteAllocation\n",
    "\n",
    "latest_prices = df.iloc[-1] # prices as of the day you are allocating\n",
    "da = DiscreteAllocation(weights, latest_prices, total_portfolio_value=100000, short_ratio=0.30)\n",
    "alloc, leftover = da.lp_portfolio()\n",
    "print(\"Discrete allocation performed with ${leftover:.2f} leftover\")\n",
    "alloc"
   ]
  },
  {
   "cell_type": "code",
   "execution_count": 209,
   "metadata": {},
   "outputs": [],
   "source": [
    "# Max Sharpe with sector constrints: let's construct a long-only max-sharpe portfolio, incorporating \n",
    "# sector constraints. this will require three things - a sector_mapper, your sector_lower and sector_upper bounds\n",
    "\n",
    "sector_mapper = {\n",
    "    \"ITSA4\": \"Financial Services\",\n",
    "    \"GOAU4\": \"Industrials\",\n",
    "    \"CMIG3\": \"Energy\",\n",
    "    \"TOTS3\": \"Tech\",\n",
    "    \"USIM5\": \"Industrials\",\n",
    "    \"LAME4\": \"Consumer Cyclical\",\n",
    "    \"CIEL3\": \"Financial Services\",\n",
    "    \"LIGT3\": \"Energy\",\n",
    "    \"ABEV3\": \"Consumer Staples\",\n",
    "    \"KLBN11\": \"Paper and Forest\",\n",
    "    \"EMBR3\": \"Aerospacial\",\n",
    "    \"PETR4\": \"Oil & Gas\",\n",
    "    \"BBAS3\": \"Financial Services\",\n",
    "    \"VVAR3\": \"Consumer Cyclical\",\n",
    "    \"CVCB3\": \"Consumer Discretionary\",\n",
    "    \"GOLL4\": \"Aerospacial\",\n",
    "    \"CSNA3\": \"Industrials\",\n",
    "}\n",
    "\n",
    "sector_lower = {\n",
    "    \"Consumer Staples\": 0.05, # at least 10% to staples\n",
    "    \"Financial Services\": 0.05 # at least 5% to tech\n",
    "    # for all other sectors, it will be assumed there is no lower bound\n",
    "}\n",
    "\n",
    "sector_upper = {\n",
    "    \"Tech\": 0.5,\n",
    "    \"Aerospace\": 0.5,\n",
    "    \"Energy\": 0.5,\n",
    "    \"Consumer Cyclical\": 0.5\n",
    "}"
   ]
  },
  {
   "cell_type": "code",
   "execution_count": 210,
   "metadata": {},
   "outputs": [
    {
     "data": {
      "text/plain": [
       "OrderedDict([('ITSA4', 0.5),\n",
       "             ('GOAU4', 0.04518),\n",
       "             ('CMIG3', 0.0),\n",
       "             ('PETR4', 0.01784),\n",
       "             ('TOTS3', 0.02116),\n",
       "             ('USIM5', 0.06119),\n",
       "             ('LAME4', 0.0),\n",
       "             ('BBAS3', 0.0),\n",
       "             ('CIEL3', 0.00274),\n",
       "             ('LIGT3', 0.02408),\n",
       "             ('ABEV3', 0.1),\n",
       "             ('KLBN11', 0.0),\n",
       "             ('VVAR3', 0.06463),\n",
       "             ('CVCB3', 0.0393),\n",
       "             ('GOLL4', 0.06397),\n",
       "             ('EMBR3', 0.00052),\n",
       "             ('CSNA3', 0.0594)])"
      ]
     },
     "execution_count": 210,
     "metadata": {},
     "output_type": "execute_result"
    }
   ],
   "source": [
    "# we than set up the optimiser and add the constraints. we can use ef.add_objective() to add other constraints.\n",
    "# for example, let's say that in addition to the above sector constraints we want: \n",
    "# 10% of the portfolio in AMZN\n",
    "# less than 10% in TSLA:\n",
    "\n",
    "mu = expected_returns.capm_return(df)\n",
    "S = risk_models.CovarianceShrinkage(df).ledoit_wolf()\n",
    "\n",
    "ef = EfficientFrontier(mu, S) # weight_bounds will be set to (0,1)\n",
    "ef.add_sector_constraints(sector_mapper, sector_lower, sector_upper)\n",
    "\n",
    "itsa4_index = ef.tickers.index(\"ITSA4\")\n",
    "ef.add_constraint(lambda w: w[itsa4_index] == 0.50)\n",
    "\n",
    "goau4_index = ef.tickers.index(\"GOAU4\")\n",
    "ef.add_constraint(lambda w: w[goau4_index] <= 0.50)\n",
    "\n",
    "ef.add_constraint(lambda w: w[10] >= 0.10)\n",
    "\n",
    "ef.max_sharpe()\n",
    "weights = ef.clean_weights()\n",
    "weights"
   ]
  },
  {
   "cell_type": "code",
   "execution_count": 211,
   "metadata": {},
   "outputs": [
    {
     "data": {
      "image/png": "[encoded data removed]",
      "text/plain": [
       "<Figure size 720x720 with 1 Axes>"
      ]
     },
     "metadata": {},
     "output_type": "display_data"
    }
   ],
   "source": [
    "pd.Series(weights).plot.pie(figsize=(10,10));"
   ]
  },
  {
   "cell_type": "code",
   "execution_count": 212,
   "metadata": {},
   "outputs": [],
   "source": [
    "# we can immediately see that our explicit constraints were satisfied, and check the sector constraints:"
   ]
  },
  {
   "cell_type": "code",
   "execution_count": 213,
   "metadata": {},
   "outputs": [
    {
     "name": "stdout",
     "output_type": "stream",
     "text": [
      "Tech: 0.021\n",
      "Paper and Forest: 0.000\n",
      "Consumer Cyclical: 0.065\n",
      "Energy: 0.024\n",
      "Oil & Gas: 0.018\n",
      "Consumer Discretionary: 0.039\n",
      "Consumer Staples: 0.100\n",
      "Aerospacial: 0.064\n",
      "Financial Services: 0.503\n",
      "Industrials: 0.166\n"
     ]
    }
   ],
   "source": [
    "# O(N^2) loop not a good idea in a coding interview aha\n",
    "for sector in set(sector_mapper.values()):\n",
    "    total_weight = 0\n",
    "    for t,w in weights.items():\n",
    "        if sector_mapper[t] == sector:\n",
    "            total_weight += w\n",
    "    print(f\"{sector}: {total_weight:.3f}\")"
   ]
  },
  {
   "cell_type": "code",
   "execution_count": 214,
   "metadata": {},
   "outputs": [],
   "source": [
    "# Maximise the return for a given level of risk, with L2 regularization: \"let's imagina that we've put a lot\n",
    "# of thought into our risk tolerance, and have decided that we can't accept anything more than 15% volatility.\n",
    "# We can use PyPortfolioOpt to construct a portfolio that maximises return for a given risk:"
   ]
  },
  {
   "cell_type": "code",
   "execution_count": 215,
   "metadata": {},
   "outputs": [
    {
     "data": {
      "text/plain": [
       "OrderedDict([('ITSA4', 0.0),\n",
       "             ('GOAU4', 0.05039),\n",
       "             ('CMIG3', 0.0),\n",
       "             ('PETR4', 0.06509),\n",
       "             ('TOTS3', 0.0),\n",
       "             ('USIM5', 0.14571),\n",
       "             ('LAME4', 0.0),\n",
       "             ('BBAS3', 0.05712),\n",
       "             ('CIEL3', 0.0),\n",
       "             ('LIGT3', 0.0),\n",
       "             ('ABEV3', 0.05),\n",
       "             ('KLBN11', 0.0),\n",
       "             ('VVAR3', 0.11282),\n",
       "             ('CVCB3', 0.04997),\n",
       "             ('GOLL4', 0.29295),\n",
       "             ('EMBR3', 0.0),\n",
       "             ('CSNA3', 0.17595)])"
      ]
     },
     "execution_count": 215,
     "metadata": {},
     "output_type": "execute_result"
    }
   ],
   "source": [
    "ef = EfficientFrontier(mu, S)\n",
    "ef.add_sector_constraints(sector_mapper, sector_lower, sector_upper)\n",
    "ef.efficient_risk(target_volatility=0.5)\n",
    "weights = ef.clean_weights()\n",
    "weights"
   ]
  },
  {
   "cell_type": "code",
   "execution_count": 216,
   "metadata": {},
   "outputs": [
    {
     "name": "stdout",
     "output_type": "stream",
     "text": [
      "8/17 ticker have zero weight\n"
     ]
    }
   ],
   "source": [
    "num_small = len([k for k in weights if weights[k] <= 1e-4])\n",
    "print(f\"{num_small}/{len(ef.tickers)} ticker have zero weight\")"
   ]
  },
  {
   "cell_type": "code",
   "execution_count": 217,
   "metadata": {},
   "outputs": [
    {
     "name": "stdout",
     "output_type": "stream",
     "text": [
      "Expected annual return: 30.4%\n",
      "Annual volatility: 50.0%\n",
      "Sharpe Ratio: 0.57\n"
     ]
    }
   ],
   "source": [
    "ef.portfolio_performance(verbose=True);"
   ]
  },
  {
   "cell_type": "code",
   "execution_count": 218,
   "metadata": {},
   "outputs": [],
   "source": [
    "# we might be worried about the fact that, in order to obtain the highest return given a 15% level of \n",
    "# volatility, many assets will be assigned zero weight. the optimiser is overfitting the data. \n",
    "# we are more likely to get better results by enforcin some level of diversification. L2 regularisation \n",
    "# does that, essentially it adds a penalty on the number of near-zero weights. "
   ]
  },
  {
   "cell_type": "code",
   "execution_count": 219,
   "metadata": {},
   "outputs": [
    {
     "data": {
      "text/plain": [
       "OrderedDict([('ITSA4', 0.15192),\n",
       "             ('GOAU4', 0.02717),\n",
       "             ('CMIG3', 0.03206),\n",
       "             ('PETR4', 0.01261),\n",
       "             ('TOTS3', 0.07969),\n",
       "             ('USIM5', 0.02721),\n",
       "             ('LAME4', 0.06262),\n",
       "             ('BBAS3', 0.00668),\n",
       "             ('CIEL3', 0.05704),\n",
       "             ('LIGT3', 0.04996),\n",
       "             ('ABEV3', 0.20123),\n",
       "             ('KLBN11', 0.1894),\n",
       "             ('VVAR3', 0.01957),\n",
       "             ('CVCB3', 0.00838),\n",
       "             ('GOLL4', 0.0),\n",
       "             ('EMBR3', 0.07256),\n",
       "             ('CSNA3', 0.0019)])"
      ]
     },
     "execution_count": 219,
     "metadata": {},
     "output_type": "execute_result"
    }
   ],
   "source": [
    "from pypfopt import objective_functions\n",
    "\n",
    "# you must always create a new efficient frontier object\n",
    "ef = EfficientFrontier(mu, S)\n",
    "ef.add_sector_constraints(sector_mapper, sector_lower, sector_upper)\n",
    "ef.add_objective(objective_functions.L2_reg, gamma=0.1) #gamma is the tuning parameter\n",
    "ef.efficient_risk(0.25)\n",
    "weights = ef.clean_weights()\n",
    "weights"
   ]
  },
  {
   "cell_type": "code",
   "execution_count": 220,
   "metadata": {},
   "outputs": [
    {
     "name": "stdout",
     "output_type": "stream",
     "text": [
      "1 / 17 tickers have zero weight\n"
     ]
    }
   ],
   "source": [
    "num_small = len([k for k in weights if weights[k] <= 1e-4])\n",
    "print(f\"{num_small} / {len(ef.tickers)} tickers have zero weight\")"
   ]
  },
  {
   "cell_type": "code",
   "execution_count": 221,
   "metadata": {},
   "outputs": [],
   "source": [
    "# \"we can tune the value of gamma to choose the number of nonzero tickers. larger gamma pulls\n",
    "# portfolio weights towards an equal allocation..."
   ]
  },
  {
   "cell_type": "code",
   "execution_count": 222,
   "metadata": {},
   "outputs": [
    {
     "data": {
      "text/plain": [
       "OrderedDict([('ITSA4', 0.12703),\n",
       "             ('GOAU4', 0.02218),\n",
       "             ('CMIG3', 0.03588),\n",
       "             ('PETR4', 0.01409),\n",
       "             ('TOTS3', 0.09337),\n",
       "             ('USIM5', 0.00991),\n",
       "             ('LAME4', 0.07155),\n",
       "             ('BBAS3', 0.01733),\n",
       "             ('CIEL3', 0.07177),\n",
       "             ('LIGT3', 0.04914),\n",
       "             ('ABEV3', 0.18064),\n",
       "             ('KLBN11', 0.19226),\n",
       "             ('VVAR3', 0.01391),\n",
       "             ('CVCB3', 0.01081),\n",
       "             ('GOLL4', 0.0),\n",
       "             ('EMBR3', 0.09013),\n",
       "             ('CSNA3', 0.0)])"
      ]
     },
     "execution_count": 222,
     "metadata": {},
     "output_type": "execute_result"
    }
   ],
   "source": [
    "ef = EfficientFrontier(mu, S)\n",
    "ef.add_sector_constraints(sector_mapper, sector_lower, sector_upper)\n",
    "ef.add_objective(objective_functions.L2_reg, gamma=1) \n",
    "ef.efficient_risk(0.25)\n",
    "weights = ef.clean_weights()\n",
    "weights"
   ]
  },
  {
   "cell_type": "code",
   "execution_count": 223,
   "metadata": {},
   "outputs": [
    {
     "data": {
      "image/png": "[encoded data removed]",
      "text/plain": [
       "<Figure size 720x720 with 1 Axes>"
      ]
     },
     "metadata": {},
     "output_type": "display_data"
    }
   ],
   "source": [
    "pd.Series(weights).plot.pie(figsize=(10, 10));"
   ]
  },
  {
   "cell_type": "code",
   "execution_count": 224,
   "metadata": {},
   "outputs": [
    {
     "name": "stdout",
     "output_type": "stream",
     "text": [
      "Expected annual return: 15.9%\n",
      "Annual volatility: 25.0%\n",
      "Sharpe Ratio: 0.56\n"
     ]
    }
   ],
   "source": [
    "ef.portfolio_performance(verbose=True);"
   ]
  },
  {
   "cell_type": "code",
   "execution_count": 225,
   "metadata": {},
   "outputs": [],
   "source": [
    "# we can also ge in the situation in which we have a certain required rate of return (actuarial goal for\n",
    "# pension funds, for instance), but would like to minimise risk. Moreover, suppose we would like our \n",
    "# portfolio to be market neutral, in the sense that it is equally exposed to the long and short sides:"
   ]
  },
  {
   "cell_type": "code",
   "execution_count": 229,
   "metadata": {},
   "outputs": [
    {
     "data": {
      "text/plain": [
       "OrderedDict([('ITSA4', -0.20926),\n",
       "             ('GOAU4', 0.16117),\n",
       "             ('CMIG3', 0.04683),\n",
       "             ('PETR4', 0.13008),\n",
       "             ('TOTS3', -0.21938),\n",
       "             ('USIM5', 0.25191),\n",
       "             ('LAME4', -0.09236),\n",
       "             ('BBAS3', 0.10295),\n",
       "             ('CIEL3', -0.13215),\n",
       "             ('LIGT3', 0.01416),\n",
       "             ('ABEV3', -0.39754),\n",
       "             ('KLBN11', -0.4791),\n",
       "             ('VVAR3', 0.17327),\n",
       "             ('CVCB3', 0.11662),\n",
       "             ('GOLL4', 0.49261),\n",
       "             ('EMBR3', -0.20614),\n",
       "             ('CSNA3', 0.24633)])"
      ]
     },
     "execution_count": 229,
     "metadata": {},
     "output_type": "execute_result"
    }
   ],
   "source": [
    "# we must add no weight bounds to allow shortsales. \n",
    "ef = EfficientFrontier(mu, S, weight_bounds=(None, None))\n",
    "ef.add_objective(objective_functions.L2_reg)\n",
    "ef.efficient_return(target_return=0.3, market_neutral=True)\n",
    "weights = ef.clean_weights()\n",
    "weights"
   ]
  },
  {
   "cell_type": "code",
   "execution_count": 230,
   "metadata": {},
   "outputs": [
    {
     "name": "stdout",
     "output_type": "stream",
     "text": [
      "Expected annual return: 30.0%\n",
      "Annual volatility: 69.4%\n",
      "Sharpe Ratio: 0.40\n"
     ]
    }
   ],
   "source": [
    "ef.portfolio_performance(verbose=True);"
   ]
  },
  {
   "cell_type": "code",
   "execution_count": 231,
   "metadata": {},
   "outputs": [
    {
     "data": {
      "image/png": "[encoded data removed]",
      "text/plain": [
       "<Figure size 720x432 with 1 Axes>"
      ]
     },
     "metadata": {
      "needs_background": "light"
     },
     "output_type": "display_data"
    }
   ],
   "source": [
    "pd.Series(weights).plot.barh(figsize=(10,6));"
   ]
  },
  {
   "cell_type": "code",
   "execution_count": 232,
   "metadata": {},
   "outputs": [
    {
     "name": "stdout",
     "output_type": "stream",
     "text": [
      "Net weight: 0.00\n"
     ]
    }
   ],
   "source": [
    "print(f\"Net weight: {sum(weights.values()):.2f}\")"
   ]
  },
  {
   "cell_type": "code",
   "execution_count": 233,
   "metadata": {},
   "outputs": [],
   "source": [
    "# plotting - to plot the unconstrained efficient frontier, we can use the critical line algorithm"
   ]
  },
  {
   "cell_type": "code",
   "execution_count": 234,
   "metadata": {},
   "outputs": [
    {
     "name": "stdout",
     "output_type": "stream",
     "text": [
      "Expected annual return: 20.3%\n",
      "Annual volatility: 30.4%\n",
      "Sharpe Ratio: 0.60\n"
     ]
    }
   ],
   "source": [
    "from pypfopt import CLA, plotting\n",
    "\n",
    "cla = CLA(mu, S)\n",
    "cla.max_sharpe()\n",
    "cla.portfolio_performance(verbose=True);"
   ]
  },
  {
   "cell_type": "code",
   "execution_count": 235,
   "metadata": {},
   "outputs": [
    {
     "data": {
      "image/png": "[encoded data removed]",
      "text/plain": [
       "<Figure size 432x288 with 1 Axes>"
      ]
     },
     "metadata": {
      "needs_background": "light"
     },
     "output_type": "display_data"
    }
   ],
   "source": [
    "ax = plotting.plot_efficient_frontier(cla, showfig=False)"
   ]
  },
  {
   "cell_type": "code",
   "execution_count": 236,
   "metadata": {},
   "outputs": [],
   "source": [
    "# finally, PyPortfolioOpt does not support plotting the constrained efficient frontier. \n",
    "# it is possible to do this manually by looping over portfolios:"
   ]
  },
  {
   "cell_type": "code",
   "execution_count": 237,
   "metadata": {},
   "outputs": [
    {
     "data": {
      "image/png": "[encoded data removed]",
      "text/plain": [
       "<Figure size 432x288 with 1 Axes>"
      ]
     },
     "metadata": {
      "needs_background": "light"
     },
     "output_type": "display_data"
    }
   ],
   "source": [
    "returns, sigmas = [], []\n",
    "for delta in np.arange(1, 100, 1):\n",
    "    ef = EfficientFrontier(mu, S, weight_bounds=(0.02, 0.15))\n",
    "    ef.max_quadratic_utility(delta)\n",
    "    ret, sigma, _ = ef.portfolio_performance()\n",
    "    returns.append(ret)\n",
    "    sigmas.append(sigma)\n",
    "plt.plot(sigmas, returns);"
   ]
  },
  {
   "cell_type": "code",
   "execution_count": null,
   "metadata": {},
   "outputs": [],
   "source": []
  }
 ],
 "metadata": {
  "kernelspec": {
   "display_name": "Python 3",
   "language": "python",
   "name": "python3"
  },
  "language_info": {
   "codemirror_mode": {
    "name": "ipython",
    "version": 3
   },
   "file_extension": ".py",
   "mimetype": "text/x-python",
   "name": "python",
   "nbconvert_exporter": "python",
   "pygments_lexer": "ipython3",
   "version": "3.7.4"
  }
 },
 "nbformat": 4,
 "nbformat_minor": 2
}
